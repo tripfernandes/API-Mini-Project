{
  "nbformat": 4,
  "nbformat_minor": 0,
  "metadata": {
    "colab": {
      "provenance": [],
      "authorship_tag": "ABX9TyOg3eW0qrq17oDehkp6p+oh",
      "include_colab_link": true
    },
    "kernelspec": {
      "name": "python3",
      "display_name": "Python 3"
    },
    "language_info": {
      "name": "python"
    }
  },
  "cells": [
    {
      "cell_type": "markdown",
      "metadata": {
        "id": "view-in-github",
        "colab_type": "text"
      },
      "source": [
        "<a href=\"https://colab.research.google.com/github/tripfernandes/API-Mini-Project/blob/master/Part_1_Data_Wrangling.ipynb\" target=\"_parent\"><img src=\"https://colab.research.google.com/assets/colab-badge.svg\" alt=\"Open In Colab\"/></a>"
      ]
    },
    {
      "cell_type": "code",
      "execution_count": null,
      "metadata": {
        "colab": {
          "base_uri": "https://localhost:8080/"
        },
        "collapsed": true,
        "id": "WVXTcxObm1ld",
        "outputId": "b01308c2-2db0-4c69-940a-ea38c4cbaf4a"
      },
      "outputs": [
        {
          "output_type": "stream",
          "name": "stdout",
          "text": [
            "Requirement already satisfied: yfinance in /usr/local/lib/python3.10/dist-packages (0.2.43)\n",
            "Requirement already satisfied: pandas>=1.3.0 in /usr/local/lib/python3.10/dist-packages (from yfinance) (2.1.4)\n",
            "Requirement already satisfied: numpy>=1.16.5 in /usr/local/lib/python3.10/dist-packages (from yfinance) (1.26.4)\n",
            "Requirement already satisfied: requests>=2.31 in /usr/local/lib/python3.10/dist-packages (from yfinance) (2.32.3)\n",
            "Requirement already satisfied: multitasking>=0.0.7 in /usr/local/lib/python3.10/dist-packages (from yfinance) (0.0.11)\n",
            "Requirement already satisfied: lxml>=4.9.1 in /usr/local/lib/python3.10/dist-packages (from yfinance) (4.9.4)\n",
            "Requirement already satisfied: platformdirs>=2.0.0 in /usr/local/lib/python3.10/dist-packages (from yfinance) (4.2.2)\n",
            "Requirement already satisfied: pytz>=2022.5 in /usr/local/lib/python3.10/dist-packages (from yfinance) (2024.1)\n",
            "Requirement already satisfied: frozendict>=2.3.4 in /usr/local/lib/python3.10/dist-packages (from yfinance) (2.4.4)\n",
            "Requirement already satisfied: peewee>=3.16.2 in /usr/local/lib/python3.10/dist-packages (from yfinance) (3.17.6)\n",
            "Requirement already satisfied: beautifulsoup4>=4.11.1 in /usr/local/lib/python3.10/dist-packages (from yfinance) (4.12.3)\n",
            "Requirement already satisfied: html5lib>=1.1 in /usr/local/lib/python3.10/dist-packages (from yfinance) (1.1)\n",
            "Requirement already satisfied: soupsieve>1.2 in /usr/local/lib/python3.10/dist-packages (from beautifulsoup4>=4.11.1->yfinance) (2.6)\n",
            "Requirement already satisfied: six>=1.9 in /usr/local/lib/python3.10/dist-packages (from html5lib>=1.1->yfinance) (1.16.0)\n",
            "Requirement already satisfied: webencodings in /usr/local/lib/python3.10/dist-packages (from html5lib>=1.1->yfinance) (0.5.1)\n",
            "Requirement already satisfied: python-dateutil>=2.8.2 in /usr/local/lib/python3.10/dist-packages (from pandas>=1.3.0->yfinance) (2.8.2)\n",
            "Requirement already satisfied: tzdata>=2022.1 in /usr/local/lib/python3.10/dist-packages (from pandas>=1.3.0->yfinance) (2024.1)\n",
            "Requirement already satisfied: charset-normalizer<4,>=2 in /usr/local/lib/python3.10/dist-packages (from requests>=2.31->yfinance) (3.3.2)\n",
            "Requirement already satisfied: idna<4,>=2.5 in /usr/local/lib/python3.10/dist-packages (from requests>=2.31->yfinance) (3.7)\n",
            "Requirement already satisfied: urllib3<3,>=1.21.1 in /usr/local/lib/python3.10/dist-packages (from requests>=2.31->yfinance) (2.0.7)\n",
            "Requirement already satisfied: certifi>=2017.4.17 in /usr/local/lib/python3.10/dist-packages (from requests>=2.31->yfinance) (2024.7.4)\n",
            "Requirement already satisfied: pytz in /usr/local/lib/python3.10/dist-packages (2024.1)\n"
          ]
        }
      ],
      "source": [
        "!pip install yfinance --upgrade --no-cache-dir\n",
        "!pip install pytz"
      ]
    },
    {
      "cell_type": "code",
      "source": [
        "import yfinance as yf\n",
        "import pandas as pd\n",
        "import matplotlib.pyplot as plt\n",
        "import pytz\n",
        "import numpy as np"
      ],
      "metadata": {
        "id": "12eWOlU7nkyw"
      },
      "execution_count": null,
      "outputs": []
    },
    {
      "cell_type": "code",
      "source": [
        "spy = yf.Ticker('SPY')\n",
        "spy_data = spy.history(period='max')\n",
        "\n",
        "# Fetch SPY dividend data\n",
        "spy_dividends = spy.dividends\n",
        "spy_dividends_df = spy_dividends.reset_index()\n",
        "spy_dividends_df.columns = ['Date', 'Dividend']\n",
        "spy_dividends_df['Date'] = pd.to_datetime(spy_dividends_df['Date'])\n",
        "\n",
        "# Convert SPY data index to 'US/Eastern' timezone if it's not already\n",
        "if spy_data.index.tzinfo is None:\n",
        "    spy_data.index = spy_data.index.tz_localize('US/Eastern')\n",
        "else:\n",
        "    spy_data.index = spy_data.index.tz_convert('US/Eastern')\n",
        "\n",
        "# Localize the dividend data if necessary\n",
        "if spy_dividends.index.tzinfo is None:\n",
        "    spy_dividends.index = spy_dividends.index.tz_localize('US/Eastern')\n",
        "else:\n",
        "    spy_dividends.index = spy_dividends.index.tz_convert('US/Eastern')\n",
        "\n",
        "# Merge SPY data with dividend data\n",
        "spy_data = pd.merge(spy_data.reset_index(), spy_dividends_df, left_on='Date', right_on='Date', how='left')\n",
        "\n",
        "# Fill missing dividend values with 0\n",
        "spy_data['Dividend'] = spy_data['Dividend'].fillna(0)\n",
        "\n",
        "# Calculate normalized value\n",
        "initial_investment = 10000\n",
        "spy_data['normalized_value'] = float(initial_investment)\n",
        "\n",
        "# Calculate normalized value\n",
        "for i in range(1, len(spy_data)):\n",
        "    dividend = spy_data.loc[spy_data.index[i], 'Dividend']\n",
        "    price_today = spy_data.loc[spy_data.index[i], 'Close']\n",
        "    price_yesterday = spy_data.loc[spy_data.index[i-1], 'Close']\n",
        "    shares_today = spy_data.loc[spy_data.index[i-1], 'normalized_value'] / price_yesterday\n",
        "    if dividend > 0:\n",
        "        shares_today += (dividend / price_today)\n",
        "    spy_data.loc[spy_data.index[i], 'normalized_value'] = float(shares_today * price_today)\n",
        "\n",
        "print(spy_data.tail())"
      ],
      "metadata": {
        "colab": {
          "base_uri": "https://localhost:8080/"
        },
        "collapsed": true,
        "id": "Htib0Y82nnNZ",
        "outputId": "8165950a-f2c4-4845-a628-05d9f550fdff"
      },
      "execution_count": null,
      "outputs": [
        {
          "output_type": "stream",
          "name": "stdout",
          "text": [
            "                          Date        Open        High         Low  \\\n",
            "7947 2024-08-22 00:00:00-04:00  562.559998  563.179993  554.979980   \n",
            "7948 2024-08-23 00:00:00-04:00  559.530029  563.090027  557.289978   \n",
            "7949 2024-08-26 00:00:00-04:00  563.179993  563.909973  559.049988   \n",
            "7950 2024-08-27 00:00:00-04:00  559.489990  562.059998  558.320007   \n",
            "7951 2024-08-28 00:00:00-04:00  561.210022  561.642029  557.700012   \n",
            "\n",
            "           Close    Volume  Dividends  Stock Splits  Capital Gains  Dividend  \\\n",
            "7947  556.219971  56121500        0.0           0.0            0.0       0.0   \n",
            "7948  562.130005  50639400        0.0           0.0            0.0       0.0   \n",
            "7949  560.789978  35788600        0.0           0.0            0.0       0.0   \n",
            "7950  561.559998  32627800        0.0           0.0            0.0       0.0   \n",
            "7951  558.030029   9349098        0.0           0.0            0.0       0.0   \n",
            "\n",
            "      normalized_value  \n",
            "7947     225769.647375  \n",
            "7948     228168.529837  \n",
            "7949     227624.613030  \n",
            "7950     227937.163904  \n",
            "7951     226504.350032  \n"
          ]
        }
      ]
    },
    {
      "cell_type": "code",
      "source": [
        "portfolio_div = ['PG', 'GPC', 'EMR', 'CINF', 'KO', 'CL', 'MO', 'FRT', 'PPG', 'TROW']"
      ],
      "metadata": {
        "id": "4BLBtc18TX9Q"
      },
      "execution_count": null,
      "outputs": []
    },
    {
      "cell_type": "code",
      "source": [
        "all_dividends = pd.DataFrame()\n",
        "\n",
        "for symbol in portfolio_div:\n",
        "    try:\n",
        "        stock = yf.Ticker(symbol)\n",
        "\n",
        "        # Fetch historical price data\n",
        "        price_data = stock.history(start='1993-01-29', end='2023-12-31')\n",
        "        price_data.reset_index(inplace=True)\n",
        "        price_data['symbol'] = symbol  # Ensure 'symbol' column is in price_data\n",
        "\n",
        "        # Fetch historical dividend data\n",
        "        dividend_data = stock.dividends\n",
        "        dividend_data.name = symbol\n",
        "        dividend_data = dividend_data.reset_index()\n",
        "        dividend_data.columns = ['Date', 'Dividend']\n",
        "        dividend_data['Date'] = pd.to_datetime(dividend_data['Date'])\n",
        "        dividend_data['symbol'] = symbol\n",
        "\n",
        "        # Fetch historical stock splits data\n",
        "        split_data = stock.splits\n",
        "        split_data.name = 'Stock Splits'\n",
        "        split_data = split_data.reset_index()\n",
        "        split_data.columns = ['Date', 'Stock Splits']\n",
        "        split_data['Date'] = pd.to_datetime(split_data['Date'])\n",
        "        split_data['symbol'] = symbol\n",
        "\n",
        "        # Merge price data and dividend data first\n",
        "        combined_data = pd.merge(price_data, dividend_data, how='left', on=['Date', 'symbol'])\n",
        "\n",
        "        # Check if split_data is empty before merging\n",
        "        if not split_data.empty:\n",
        "            combined_data = pd.merge(combined_data, split_data, how='left', on=['Date', 'symbol'])\n",
        "        else:\n",
        "            # If no splits, add Stock Splits column with NaNs\n",
        "            combined_data['Stock Splits'] = np.nan\n",
        "\n",
        "        # Adjust historical prices and dividends for stock splits if splits data exists\n",
        "        if 'Stock Splits' in combined_data.columns:\n",
        "            combined_data['Adj Close'] = combined_data['Close']\n",
        "            combined_data['Adj Dividend'] = combined_data['Dividend']\n",
        "\n",
        "            for i in range(1, len(combined_data)):\n",
        "                if pd.notna(combined_data.at[i, 'Stock Splits']) and combined_data.at[i, 'Stock Splits'] != 0:\n",
        "                    ratio = combined_data.at[i, 'Stock Splits']\n",
        "                    combined_data.loc[:i-1, 'Adj Close'] /= ratio\n",
        "                    combined_data.loc[:i-1, 'Adj Dividend'] /= ratio\n",
        "\n",
        "        all_dividends = pd.concat([all_dividends, combined_data], ignore_index=True)\n",
        "\n",
        "    except Exception as e:\n",
        "        print(f\"Failed to get data for {symbol}: {e}\")\n",
        "\n",
        "# After merging dataframes, clean up column names if necessary\n",
        "if 'Stock Splits_x' in all_dividends.columns and 'Stock Splits_y' in all_dividends.columns:\n",
        "    all_dividends.rename(columns={'Stock Splits_x': 'Stock Splits Price', 'Stock Splits_y': 'Stock Splits Dividend'}, inplace=True)\n",
        "    # Drop one if not needed\n",
        "    all_dividends.drop(columns=['Stock Splits Dividend'], inplace=True)\n",
        "\n",
        "print(all_dividends.columns)"
      ],
      "metadata": {
        "colab": {
          "base_uri": "https://localhost:8080/"
        },
        "id": "EZ6HkOjQSxgo",
        "outputId": "66ef8d96-82ab-42d5-a1ab-2f054355b600"
      },
      "execution_count": null,
      "outputs": [
        {
          "output_type": "stream",
          "name": "stdout",
          "text": [
            "Index(['Date', 'Open', 'High', 'Low', 'Close', 'Volume', 'Dividends',\n",
            "       'Stock Splits Price', 'symbol', 'Dividend', 'Stock Splits', 'Adj Close',\n",
            "       'Adj Dividend'],\n",
            "      dtype='object')\n"
          ]
        }
      ]
    },
    {
      "cell_type": "code",
      "source": [
        "print(all_dividends.head())"
      ],
      "metadata": {
        "colab": {
          "base_uri": "https://localhost:8080/"
        },
        "id": "nrohT3D0T8Pd",
        "outputId": "72d693bf-852a-4be4-f2ad-3a001fab520f"
      },
      "execution_count": null,
      "outputs": [
        {
          "output_type": "stream",
          "name": "stdout",
          "text": [
            "                       Date      Open      High       Low     Close   Volume  \\\n",
            "0 1993-01-29 00:00:00-05:00  5.788133  5.802531  5.716141  5.730539  4040000   \n",
            "1 1993-02-01 00:00:00-05:00  5.759338  5.802533  5.730541  5.788135  3292400   \n",
            "2 1993-02-02 00:00:00-05:00  5.759332  5.816925  5.759332  5.759332  2364400   \n",
            "3 1993-02-03 00:00:00-05:00  5.788131  5.845725  5.788131  5.831326  2091600   \n",
            "4 1993-02-04 00:00:00-05:00  5.860124  5.888920  5.802530  5.860124  3082800   \n",
            "\n",
            "   Dividends  Stock Splits Price symbol  Dividend  Stock Splits  Adj Close  \\\n",
            "0        0.0                 0.0     PG       NaN           NaN        NaN   \n",
            "1        0.0                 0.0     PG       NaN           NaN        NaN   \n",
            "2        0.0                 0.0     PG       NaN           NaN        NaN   \n",
            "3        0.0                 0.0     PG       NaN           NaN        NaN   \n",
            "4        0.0                 0.0     PG       NaN           NaN        NaN   \n",
            "\n",
            "   Adj Dividend  \n",
            "0           NaN  \n",
            "1           NaN  \n",
            "2           NaN  \n",
            "3           NaN  \n",
            "4           NaN  \n"
          ]
        }
      ]
    },
    {
      "cell_type": "code",
      "source": [
        "portfolio_div = ['PG', 'GPC', 'EMR', 'CINF', 'KO', 'CL', 'MO', 'FRT', 'PPG', 'TROW']\n",
        "\n",
        "all_dividends = pd.DataFrame()\n",
        "\n",
        "for symbol in portfolio_div:\n",
        "    try:\n",
        "        stock = yf.Ticker(symbol)\n",
        "\n",
        "        # Fetch historical price data\n",
        "        price_data = stock.history(start='1993-01-29', end='2023-12-31')\n",
        "        price_data.reset_index(inplace=True)\n",
        "        price_data['symbol'] = symbol  # Ensure 'symbol' column is in price_data\n",
        "\n",
        "        # Fetch historical dividend data\n",
        "        dividend_data = stock.dividends\n",
        "        dividend_data.name = symbol\n",
        "        dividend_data = dividend_data.reset_index()\n",
        "        dividend_data.columns = ['Date', 'Dividend']\n",
        "        dividend_data['Date'] = pd.to_datetime(dividend_data['Date'])\n",
        "        dividend_data['symbol'] = symbol\n",
        "\n",
        "        # Fetch historical stock splits data\n",
        "        split_data = stock.splits\n",
        "        split_data.name = 'Stock Splits'\n",
        "        split_data = split_data.reset_index()\n",
        "        split_data.columns = ['Date', 'Stock Splits']\n",
        "        split_data['Date'] = pd.to_datetime(split_data['Date'])\n",
        "        split_data['symbol'] = symbol\n",
        "\n",
        "        # Merge price data and dividend data first\n",
        "        combined_data = pd.merge(price_data, dividend_data, how='left', on=['Date', 'symbol'])\n",
        "\n",
        "        # Merge stock splits data\n",
        "        if not split_data.empty:\n",
        "            combined_data = pd.merge(combined_data, split_data, how='left', on=['Date', 'symbol'])\n",
        "        else:\n",
        "            # If no splits, add Stock Splits column with NaNs\n",
        "            combined_data['Stock Splits'] = np.nan\n",
        "\n",
        "        # Adjust historical prices and dividends for stock splits if splits data exists\n",
        "        if 'Stock Splits' in combined_data.columns:\n",
        "            combined_data['Adj Close'] = combined_data['Close']\n",
        "            combined_data['Adj Dividend'] = combined_data['Dividend']\n",
        "\n",
        "            for i in range(1, len(combined_data)):\n",
        "                if pd.notna(combined_data.at[i, 'Stock Splits']) and combined_data.at[i, 'Stock Splits'] != 0:\n",
        "                    ratio = combined_data.at[i, 'Stock Splits']\n",
        "                    combined_data.loc[:i-1, 'Adj Close'] /= ratio\n",
        "                    combined_data.loc[:i-1, 'Adj Dividend'] /= ratio\n",
        "\n",
        "        all_dividends = pd.concat([all_dividends, combined_data], ignore_index=True)\n",
        "\n",
        "    except Exception as e:\n",
        "        print(f\"Failed to get data for {symbol}: {e}\")\n",
        "\n",
        "# Ensure the 'Date' column is in datetime format\n",
        "all_dividends['Date'] = pd.to_datetime(all_dividends['Date'])\n",
        "\n",
        "# Ensure column cleanup after merges\n",
        "if 'Stock Splits_x' in all_dividends.columns and 'Stock Splits_y' in all_dividends.columns:\n",
        "    all_dividends.rename(columns={'Stock Splits_x': 'Stock Splits Price', 'Stock Splits_y': 'Stock Splits Dividend'}, inplace=True)\n",
        "    # Drop one if not needed\n",
        "    all_dividends.drop(columns=['Stock Splits Dividend'], inplace=True)\n",
        "\n",
        "# Adding DRIP logic\n",
        "dripped_symbols = {'PG', 'GPC', 'EMR', 'CINF', 'KO', 'CL', 'MO', 'FRT', 'PPG', 'TROW'}\n",
        "all_dividends['DRIP'] = all_dividends['symbol'].apply(lambda x: 'yes' if x in dripped_symbols else 'no')\n",
        "\n",
        "# Calculate reinvested dividends\n",
        "all_dividends['Reinvested_Dividends'] = all_dividends.apply(\n",
        "    lambda row: row['Dividend'] if row['DRIP'] == 'yes' else 0, axis=1\n",
        ")\n",
        "\n",
        "# Calculate additional shares purchased from reinvested dividends\n",
        "all_dividends['Additional_Shares'] = all_dividends['Reinvested_Dividends'] / all_dividends['Close']\n",
        "\n",
        "# Calculate cumulative total shares for each stock symbol\n",
        "all_dividends['Total_Shares'] = all_dividends.groupby('symbol')['Additional_Shares'].cumsum()\n",
        "\n",
        "# Initial investment assumption (adjust as needed)\n",
        "initial_investment = 10000\n",
        "\n",
        "# Calculate initial shares bought with initial investment\n",
        "all_dividends['Initial_Shares'] = initial_investment / all_dividends.groupby('symbol')['Close'].transform('first')\n",
        "\n",
        "# Calculate the portfolio value\n",
        "all_dividends['Portfolio_Value'] = all_dividends['Initial_Shares'] * all_dividends['Close'] + all_dividends['Total_Shares'] * all_dividends['Close']\n",
        "\n",
        "print(all_dividends.head())"
      ],
      "metadata": {
        "colab": {
          "base_uri": "https://localhost:8080/"
        },
        "id": "d_-D3nBZUf1R",
        "outputId": "0b80bac2-5a9e-4889-b501-c7f8c96d09f6"
      },
      "execution_count": null,
      "outputs": [
        {
          "output_type": "stream",
          "name": "stdout",
          "text": [
            "                       Date      Open      High       Low     Close   Volume  \\\n",
            "0 1993-01-29 00:00:00-05:00  5.788133  5.802531  5.716141  5.730539  4040000   \n",
            "1 1993-02-01 00:00:00-05:00  5.759338  5.802533  5.730541  5.788135  3292400   \n",
            "2 1993-02-02 00:00:00-05:00  5.759332  5.816925  5.759332  5.759332  2364400   \n",
            "3 1993-02-03 00:00:00-05:00  5.788131  5.845725  5.788131  5.831326  2091600   \n",
            "4 1993-02-04 00:00:00-05:00  5.860124  5.888920  5.802530  5.860124  3082800   \n",
            "\n",
            "   Dividends  Stock Splits Price symbol  Dividend  Stock Splits  Adj Close  \\\n",
            "0        0.0                 0.0     PG       NaN           NaN        NaN   \n",
            "1        0.0                 0.0     PG       NaN           NaN        NaN   \n",
            "2        0.0                 0.0     PG       NaN           NaN        NaN   \n",
            "3        0.0                 0.0     PG       NaN           NaN        NaN   \n",
            "4        0.0                 0.0     PG       NaN           NaN        NaN   \n",
            "\n",
            "   Adj Dividend DRIP  Reinvested_Dividends  Additional_Shares  Total_Shares  \\\n",
            "0           NaN  yes                   NaN                NaN           NaN   \n",
            "1           NaN  yes                   NaN                NaN           NaN   \n",
            "2           NaN  yes                   NaN                NaN           NaN   \n",
            "3           NaN  yes                   NaN                NaN           NaN   \n",
            "4           NaN  yes                   NaN                NaN           NaN   \n",
            "\n",
            "   Initial_Shares  Portfolio_Value  \n",
            "0     1745.036451              NaN  \n",
            "1     1745.036451              NaN  \n",
            "2     1745.036451              NaN  \n",
            "3     1745.036451              NaN  \n",
            "4     1745.036451              NaN  \n"
          ]
        }
      ]
    },
    {
      "cell_type": "code",
      "source": [
        "'''# List of dividend portfolio tickers\n",
        "portfolio_div = ['PG', 'GPC', 'EMR', 'CINF', 'KO', 'CL', 'MO', 'FRT', 'PPG', 'TROW']\n",
        "\n",
        "\n",
        "all_dividends = pd.DataFrame()\n",
        "\n",
        "\n",
        "for symbol in portfolio_div:\n",
        "    try:\n",
        "        dividend_data = yf.download(symbol, start='1993-01-29', end='2023-12-31')\n",
        "        dividend_data['symbol'] = symbol\n",
        "\n",
        "        all_dividends = pd.concat([all_dividends, dividend_data], ignore_index=False)\n",
        "\n",
        "    except Exception as e:\n",
        "        print(f\"Failed to get data for {symbol}: {e}\")\n",
        "\n",
        "# Reset the index to have date as a column for easier filtering\n",
        "all_dividends.reset_index(inplace=True)\n",
        "\n",
        "# Display the first few rows of the combined dividend data\n",
        "print(all_dividends.head())'''"
      ],
      "metadata": {
        "colab": {
          "base_uri": "https://localhost:8080/",
          "height": 70
        },
        "collapsed": true,
        "id": "ODgix6E4nyP6",
        "outputId": "3674f830-865f-430c-f1e1-6d2996336b57"
      },
      "execution_count": null,
      "outputs": [
        {
          "output_type": "execute_result",
          "data": {
            "text/plain": [
              "'# List of dividend portfolio tickers\\nportfolio_div = [\\'PG\\', \\'GPC\\', \\'EMR\\', \\'CINF\\', \\'KO\\', \\'CL\\', \\'MO\\', \\'FRT\\', \\'PPG\\', \\'TROW\\']\\n\\n\\nall_dividends = pd.DataFrame()\\n\\n\\nfor symbol in portfolio_div:\\n    try:\\n        dividend_data = yf.download(symbol, start=\\'1993-01-29\\', end=\\'2023-12-31\\')\\n        dividend_data[\\'symbol\\'] = symbol\\n\\n        all_dividends = pd.concat([all_dividends, dividend_data], ignore_index=False)\\n\\n    except Exception as e:\\n        print(f\"Failed to get data for {symbol}: {e}\")\\n\\n# Reset the index to have date as a column for easier filtering\\nall_dividends.reset_index(inplace=True)\\n\\n# Display the first few rows of the combined dividend data\\nprint(all_dividends.head())'"
            ],
            "application/vnd.google.colaboratory.intrinsic+json": {
              "type": "string"
            }
          },
          "metadata": {},
          "execution_count": 17
        }
      ]
    },
    {
      "cell_type": "code",
      "source": [
        "'''all_dividends = pd.DataFrame()\n",
        "\n",
        "for symbol in portfolio_div:\n",
        "    try:\n",
        "        stock = yf.Ticker(symbol)\n",
        "        # Fetch historical price data\n",
        "        price_data = stock.history(start='1993-01-29', end='2023-12-31')\n",
        "        price_data.reset_index(inplace=True)\n",
        "\n",
        "        # Fetch historical dividend data\n",
        "        dividend_data = stock.dividends\n",
        "        dividend_data.name = symbol\n",
        "        dividend_data = dividend_data.reset_index()\n",
        "        dividend_data.columns = ['Date', 'Dividend']\n",
        "        dividend_data['Date'] = pd.to_datetime(dividend_data['Date'])\n",
        "        dividend_data['symbol'] = symbol\n",
        "\n",
        "        # Merge dividend data with price data\n",
        "        combined_data = pd.merge(price_data, dividend_data, how='left', on=['Date'])\n",
        "        combined_data['symbol'] = symbol\n",
        "\n",
        "        all_dividends = pd.concat([all_dividends, combined_data], ignore_index=True)\n",
        "\n",
        "    except Exception as e:\n",
        "        print(f\"Failed to get data for {symbol}: {e}\")\n",
        "\n",
        "\n",
        "all_dividends = all_dividends.drop(columns = ['Dividend'])\n",
        "print(all_dividends.head())\n",
        "\n",
        "print(all_dividends.columns)\n",
        "\n",
        "\n",
        "all_dividends['Date'] = pd.to_datetime(all_dividends['Date'])\n",
        "\n",
        "print(all_dividends.dtypes)\n",
        "'''\n"
      ],
      "metadata": {
        "colab": {
          "base_uri": "https://localhost:8080/",
          "height": 87
        },
        "collapsed": true,
        "id": "Bsr3lXg7uRE2",
        "outputId": "50fda485-856c-4821-dd00-6349a2aa16d9"
      },
      "execution_count": null,
      "outputs": [
        {
          "output_type": "execute_result",
          "data": {
            "text/plain": [
              "'all_dividends = pd.DataFrame()\\n\\nfor symbol in portfolio_div:\\n    try:\\n        stock = yf.Ticker(symbol)\\n        # Fetch historical price data\\n        price_data = stock.history(start=\\'1993-01-29\\', end=\\'2023-12-31\\')\\n        price_data.reset_index(inplace=True)\\n\\n        # Fetch historical dividend data\\n        dividend_data = stock.dividends\\n        dividend_data.name = symbol\\n        dividend_data = dividend_data.reset_index()\\n        dividend_data.columns = [\\'Date\\', \\'Dividend\\']\\n        dividend_data[\\'Date\\'] = pd.to_datetime(dividend_data[\\'Date\\'])\\n        dividend_data[\\'symbol\\'] = symbol\\n\\n        # Merge dividend data with price data\\n        combined_data = pd.merge(price_data, dividend_data, how=\\'left\\', on=[\\'Date\\'])\\n        combined_data[\\'symbol\\'] = symbol\\n\\n        all_dividends = pd.concat([all_dividends, combined_data], ignore_index=True)\\n\\n    except Exception as e:\\n        print(f\"Failed to get data for {symbol}: {e}\")\\n\\n\\nall_dividends = all_dividends.drop(columns = [\\'Dividend\\'])\\nprint(all_dividends.head())\\n\\nprint(all_dividends.columns)\\n\\n\\nall_dividends[\\'Date\\'] = pd.to_datetime(all_dividends[\\'Date\\'])\\n\\nprint(all_dividends.dtypes)\\n'"
            ],
            "application/vnd.google.colaboratory.intrinsic+json": {
              "type": "string"
            }
          },
          "metadata": {},
          "execution_count": 18
        }
      ]
    },
    {
      "cell_type": "code",
      "source": [],
      "metadata": {
        "id": "YDs5MSOEn5G_"
      },
      "execution_count": null,
      "outputs": []
    },
    {
      "cell_type": "code",
      "source": [
        "'''dripped_symbols = {'PG', 'GPC', 'EMR', 'CINF', 'KO', 'CL', 'MO', 'FRT', 'PPG', 'TROW'}\n",
        "all_dividends['DRIP'] = all_dividends['symbol'].apply(lambda x: 'yes' if x in dripped_symbols else 'no')'''"
      ],
      "metadata": {
        "id": "KA-YJjzAub03",
        "outputId": "b7746b95-1fd2-4efc-9607-89bb930fcaa0",
        "colab": {
          "base_uri": "https://localhost:8080/",
          "height": 35
        }
      },
      "execution_count": null,
      "outputs": [
        {
          "output_type": "execute_result",
          "data": {
            "text/plain": [
              "\"dripped_symbols = {'PG', 'GPC', 'EMR', 'CINF', 'KO', 'CL', 'MO', 'FRT', 'PPG', 'TROW'}\\nall_dividends['DRIP'] = all_dividends['symbol'].apply(lambda x: 'yes' if x in dripped_symbols else 'no')\""
            ],
            "application/vnd.google.colaboratory.intrinsic+json": {
              "type": "string"
            }
          },
          "metadata": {},
          "execution_count": 19
        }
      ]
    },
    {
      "cell_type": "code",
      "source": [
        "'''all_dividends['Reinvested_Dividends'] = all_dividends.apply(\n",
        "    lambda row: row['Dividends'] if row['DRIP'] == 'yes' else 0, axis=1\n",
        ")\n",
        "\n",
        "all_dividends['Additional_Shares'] = all_dividends['Reinvested_Dividends'] / all_dividends['Close']\n",
        "\n",
        "# Accumulate total shares over time\n",
        "all_dividends['Total_Shares'] = all_dividends.groupby('symbol')['Additional_Shares'].cumsum()\n",
        "\n",
        "initial_investment = 10000\n",
        "\n",
        "initial_shares = initial_investment / all_dividends['Close'].iloc[0]\n",
        "\n",
        "# Calculate the portfolio value\n",
        "all_dividends['Portfolio_Value'] = initial_shares * all_dividends['Close'] + all_dividends['Total_Shares'] * all_dividends['Close']\n",
        "\n",
        "print(all_dividends.head())'''"
      ],
      "metadata": {
        "colab": {
          "base_uri": "https://localhost:8080/",
          "height": 70
        },
        "collapsed": true,
        "id": "rVZf5my9x1O4",
        "outputId": "416c2ed7-991e-49fc-bec9-76cf38ea6432"
      },
      "execution_count": null,
      "outputs": [
        {
          "output_type": "execute_result",
          "data": {
            "text/plain": [
              "\"all_dividends['Reinvested_Dividends'] = all_dividends.apply(\\n    lambda row: row['Dividends'] if row['DRIP'] == 'yes' else 0, axis=1\\n)\\n\\nall_dividends['Additional_Shares'] = all_dividends['Reinvested_Dividends'] / all_dividends['Close']\\n\\n# Accumulate total shares over time\\nall_dividends['Total_Shares'] = all_dividends.groupby('symbol')['Additional_Shares'].cumsum()\\n\\ninitial_investment = 10000\\n\\ninitial_shares = initial_investment / all_dividends['Close'].iloc[0]\\n\\n# Calculate the portfolio value\\nall_dividends['Portfolio_Value'] = initial_shares * all_dividends['Close'] + all_dividends['Total_Shares'] * all_dividends['Close']\\n\\nprint(all_dividends.head())\""
            ],
            "application/vnd.google.colaboratory.intrinsic+json": {
              "type": "string"
            }
          },
          "metadata": {},
          "execution_count": 20
        }
      ]
    },
    {
      "cell_type": "code",
      "source": [
        "ko = yf.Ticker(\"KO\")\n",
        "split_data = ko.splits\n",
        "print(split_data)"
      ],
      "metadata": {
        "colab": {
          "base_uri": "https://localhost:8080/"
        },
        "id": "qjgy_g6uVRUD",
        "outputId": "cca5dc0d-52eb-4e2d-8975-47789a3e3bc2"
      },
      "execution_count": null,
      "outputs": [
        {
          "output_type": "stream",
          "name": "stdout",
          "text": [
            "Date\n",
            "1965-02-19 00:00:00-05:00    2.0\n",
            "1968-06-03 00:00:00-04:00    2.0\n",
            "1977-06-01 00:00:00-04:00    2.0\n",
            "1986-07-01 00:00:00-04:00    3.0\n",
            "1990-05-14 00:00:00-04:00    2.0\n",
            "1992-05-12 00:00:00-04:00    2.0\n",
            "1996-05-13 00:00:00-04:00    2.0\n",
            "2012-08-13 00:00:00-04:00    2.0\n",
            "Name: Stock Splits, dtype: float64\n"
          ]
        }
      ]
    },
    {
      "cell_type": "code",
      "source": [
        "# Initialize an empty DataFrame\n",
        "all_dividends = pd.DataFrame()\n",
        "\n",
        "# Define the portfolio symbols\n",
        "portfolio_div = ['PG', 'GPC', 'EMR', 'CINF', 'KO', 'CL', 'MO', 'FRT', 'PPG', 'TROW']\n",
        "\n",
        "# Fetch data for each symbol\n",
        "for symbol in portfolio_div:\n",
        "    try:\n",
        "        stock = yf.Ticker(symbol)\n",
        "\n",
        "        # Fetch historical price data\n",
        "        price_data = stock.history(start='1993-01-29', end='2023-12-31')\n",
        "        price_data.reset_index(inplace=True)\n",
        "\n",
        "        # Fetch historical dividend data\n",
        "        dividend_data = stock.dividends\n",
        "        dividend_data = dividend_data.reset_index()\n",
        "        dividend_data.columns = ['Date', 'Dividend']\n",
        "        dividend_data['Date'] = pd.to_datetime(dividend_data['Date'])\n",
        "        dividend_data['symbol'] = symbol\n",
        "\n",
        "        # Fetch historical stock split data\n",
        "        stock_splits = stock.splits\n",
        "        stock_splits = stock_splits.reset_index()\n",
        "        stock_splits.columns = ['Date', 'Stock_Split']\n",
        "        stock_splits['Date'] = pd.to_datetime(stock_splits['Date'])\n",
        "        stock_splits['symbol'] = symbol\n",
        "\n",
        "        # Merge price, dividend, and stock split data\n",
        "        combined_data = pd.merge(price_data, dividend_data, how='left', on=['Date'])\n",
        "        combined_data = pd.merge(combined_data, stock_splits, how='left', on=['Date'])\n",
        "        combined_data['symbol'] = symbol\n",
        "\n",
        "        # Append to all_dividends DataFrame\n",
        "        all_dividends = pd.concat([all_dividends, combined_data], ignore_index=True)\n",
        "\n",
        "    except Exception as e:\n",
        "        print(f\"Failed to get data for {symbol}: {e}\")\n",
        "\n",
        "# Reset index and handle missing columns\n",
        "all_dividends['Date'] = pd.to_datetime(all_dividends['Date'])\n",
        "all_dividends.set_index('Date', inplace=True)\n",
        "all_dividends['Date_as_Index'] = all_dividends.index\n",
        "all_dividends.reset_index(inplace=True)\n",
        "all_dividends.set_index('Date_as_Index', inplace=True)\n",
        "\n",
        "# Check the DataFrame\n",
        "print(all_dividends.head())\n",
        "print(all_dividends.columns)\n",
        "print(all_dividends.index)"
      ],
      "metadata": {
        "colab": {
          "base_uri": "https://localhost:8080/"
        },
        "id": "Yx-EvBwzV05W",
        "outputId": "b66b0134-fc7e-49e7-d192-b43481ad0d7d"
      },
      "execution_count": null,
      "outputs": [
        {
          "output_type": "stream",
          "name": "stdout",
          "text": [
            "                                               Date      Open      High  \\\n",
            "Date_as_Index                                                             \n",
            "1993-01-29 00:00:00-05:00 1993-01-29 00:00:00-05:00  5.788133  5.802531   \n",
            "1993-02-01 00:00:00-05:00 1993-02-01 00:00:00-05:00  5.759338  5.802533   \n",
            "1993-02-02 00:00:00-05:00 1993-02-02 00:00:00-05:00  5.759332  5.816925   \n",
            "1993-02-03 00:00:00-05:00 1993-02-03 00:00:00-05:00  5.788131  5.845725   \n",
            "1993-02-04 00:00:00-05:00 1993-02-04 00:00:00-05:00  5.860124  5.888920   \n",
            "\n",
            "                                Low     Close   Volume  Dividends  \\\n",
            "Date_as_Index                                                       \n",
            "1993-01-29 00:00:00-05:00  5.716141  5.730539  4040000        0.0   \n",
            "1993-02-01 00:00:00-05:00  5.730541  5.788135  3292400        0.0   \n",
            "1993-02-02 00:00:00-05:00  5.759332  5.759332  2364400        0.0   \n",
            "1993-02-03 00:00:00-05:00  5.788131  5.831326  2091600        0.0   \n",
            "1993-02-04 00:00:00-05:00  5.802530  5.860124  3082800        0.0   \n",
            "\n",
            "                           Stock Splits  Dividend symbol_x  Stock_Split  \\\n",
            "Date_as_Index                                                             \n",
            "1993-01-29 00:00:00-05:00           0.0       NaN      NaN          NaN   \n",
            "1993-02-01 00:00:00-05:00           0.0       NaN      NaN          NaN   \n",
            "1993-02-02 00:00:00-05:00           0.0       NaN      NaN          NaN   \n",
            "1993-02-03 00:00:00-05:00           0.0       NaN      NaN          NaN   \n",
            "1993-02-04 00:00:00-05:00           0.0       NaN      NaN          NaN   \n",
            "\n",
            "                          symbol_y symbol  \n",
            "Date_as_Index                              \n",
            "1993-01-29 00:00:00-05:00      NaN     PG  \n",
            "1993-02-01 00:00:00-05:00      NaN     PG  \n",
            "1993-02-02 00:00:00-05:00      NaN     PG  \n",
            "1993-02-03 00:00:00-05:00      NaN     PG  \n",
            "1993-02-04 00:00:00-05:00      NaN     PG  \n",
            "Index(['Date', 'Open', 'High', 'Low', 'Close', 'Volume', 'Dividends',\n",
            "       'Stock Splits', 'Dividend', 'symbol_x', 'Stock_Split', 'symbol_y',\n",
            "       'symbol'],\n",
            "      dtype='object')\n",
            "DatetimeIndex(['1993-01-29 00:00:00-05:00', '1993-02-01 00:00:00-05:00',\n",
            "               '1993-02-02 00:00:00-05:00', '1993-02-03 00:00:00-05:00',\n",
            "               '1993-02-04 00:00:00-05:00', '1993-02-05 00:00:00-05:00',\n",
            "               '1993-02-08 00:00:00-05:00', '1993-02-09 00:00:00-05:00',\n",
            "               '1993-02-10 00:00:00-05:00', '1993-02-11 00:00:00-05:00',\n",
            "               ...\n",
            "               '2023-12-15 00:00:00-05:00', '2023-12-18 00:00:00-05:00',\n",
            "               '2023-12-19 00:00:00-05:00', '2023-12-20 00:00:00-05:00',\n",
            "               '2023-12-21 00:00:00-05:00', '2023-12-22 00:00:00-05:00',\n",
            "               '2023-12-26 00:00:00-05:00', '2023-12-27 00:00:00-05:00',\n",
            "               '2023-12-28 00:00:00-05:00', '2023-12-29 00:00:00-05:00'],\n",
            "              dtype='datetime64[ns, America/New_York]', name='Date_as_Index', length=77860, freq=None)\n"
          ]
        }
      ]
    },
    {
      "cell_type": "code",
      "source": [
        "print(all_dividends.isna().sum())"
      ],
      "metadata": {
        "colab": {
          "base_uri": "https://localhost:8080/"
        },
        "id": "pVL6QAjDWYKP",
        "outputId": "1a24a08e-f09e-4d5f-a9c8-0632e30b743e"
      },
      "execution_count": null,
      "outputs": [
        {
          "output_type": "stream",
          "name": "stdout",
          "text": [
            "Date                0\n",
            "Open                0\n",
            "High                0\n",
            "Low                 0\n",
            "Close               0\n",
            "Volume              0\n",
            "Dividends           0\n",
            "Stock Splits        0\n",
            "Dividend        76612\n",
            "symbol_x        76612\n",
            "Stock_Split     77838\n",
            "symbol_y        77838\n",
            "symbol              0\n",
            "dtype: int64\n"
          ]
        }
      ]
    },
    {
      "cell_type": "code",
      "source": [
        "# Define DRIP symbols\n",
        "dripped_symbols = {'PG', 'GPC', 'EMR', 'CINF', 'KO', 'CL', 'MO', 'FRT', 'PPG', 'TROW'}\n",
        "\n",
        "# Add DRIP column\n",
        "all_dividends['DRIP'] = all_dividends['symbol'].apply(lambda x: 'yes' if x in dripped_symbols else 'no')\n",
        "\n",
        "# Calculate reinvested dividends and additional shares\n",
        "all_dividends['Reinvested_Dividends'] = all_dividends.apply(\n",
        "    lambda row: row['Dividends'] if row['DRIP'] == 'yes' else 0, axis=1\n",
        ")\n",
        "\n",
        "# Adjust for stock splits\n",
        "all_dividends['Adjusted_Close'] = all_dividends.groupby('symbol')['Close'].apply(\n",
        "    lambda x: x / x.shift(1).fillna(1)  # Adjust for previous day’s splits\n",
        ")\n",
        "\n",
        "# Calculate additional shares\n",
        "all_dividends['Additional_Shares'] = all_dividends['Reinvested_Dividends'] / all_dividends['Adjusted_Close']\n",
        "\n",
        "# Accumulate total shares over time\n",
        "all_dividends['Total_Shares'] = all_dividends.groupby('symbol')['Additional_Shares'].cumsum()\n",
        "\n",
        "# Calculate initial shares and portfolio value\n",
        "initial_investment = 10000\n",
        "initial_shares = initial_investment / all_dividends['Close'].iloc[0]\n",
        "all_dividends['Portfolio_Value'] = initial_shares * all_dividends['Close'] + all_dividends['Total_Shares'] * all_dividends['Close']\n",
        "\n",
        "print(all_dividends.head())\n",
        "\n",
        "if all_dividends.index.tzinfo is None:\n",
        "    all_dividends.index = all_dividends.index.tz_localize('US/Eastern')\n",
        "else:\n",
        "    all_dividends.index = all_dividends.index.tz_convert('US/Eastern')"
      ],
      "metadata": {
        "colab": {
          "base_uri": "https://localhost:8080/"
        },
        "collapsed": true,
        "id": "3d4giCdIV3GC",
        "outputId": "36d4de01-8756-43fe-d1f0-40ae03c585e0"
      },
      "execution_count": null,
      "outputs": [
        {
          "output_type": "stream",
          "name": "stdout",
          "text": [
            "                                               Date      Open      High  \\\n",
            "Date_as_Index                                                             \n",
            "1993-01-29 00:00:00-05:00 1993-01-29 00:00:00-05:00  5.788133  5.802531   \n",
            "1993-02-01 00:00:00-05:00 1993-02-01 00:00:00-05:00  5.759338  5.802533   \n",
            "1993-02-02 00:00:00-05:00 1993-02-02 00:00:00-05:00  5.759332  5.816925   \n",
            "1993-02-03 00:00:00-05:00 1993-02-03 00:00:00-05:00  5.788131  5.845725   \n",
            "1993-02-04 00:00:00-05:00 1993-02-04 00:00:00-05:00  5.860124  5.888920   \n",
            "\n",
            "                                Low     Close   Volume  Dividends  \\\n",
            "Date_as_Index                                                       \n",
            "1993-01-29 00:00:00-05:00  5.716141  5.730539  4040000        0.0   \n",
            "1993-02-01 00:00:00-05:00  5.730541  5.788135  3292400        0.0   \n",
            "1993-02-02 00:00:00-05:00  5.759332  5.759332  2364400        0.0   \n",
            "1993-02-03 00:00:00-05:00  5.788131  5.831326  2091600        0.0   \n",
            "1993-02-04 00:00:00-05:00  5.802530  5.860124  3082800        0.0   \n",
            "\n",
            "                           Stock Splits  Dividend symbol_x  Stock_Split  \\\n",
            "Date_as_Index                                                             \n",
            "1993-01-29 00:00:00-05:00           0.0       NaN      NaN          NaN   \n",
            "1993-02-01 00:00:00-05:00           0.0       NaN      NaN          NaN   \n",
            "1993-02-02 00:00:00-05:00           0.0       NaN      NaN          NaN   \n",
            "1993-02-03 00:00:00-05:00           0.0       NaN      NaN          NaN   \n",
            "1993-02-04 00:00:00-05:00           0.0       NaN      NaN          NaN   \n",
            "\n",
            "                          symbol_y symbol DRIP  Reinvested_Dividends  \\\n",
            "Date_as_Index                                                          \n",
            "1993-01-29 00:00:00-05:00      NaN     PG  yes                   0.0   \n",
            "1993-02-01 00:00:00-05:00      NaN     PG  yes                   0.0   \n",
            "1993-02-02 00:00:00-05:00      NaN     PG  yes                   0.0   \n",
            "1993-02-03 00:00:00-05:00      NaN     PG  yes                   0.0   \n",
            "1993-02-04 00:00:00-05:00      NaN     PG  yes                   0.0   \n",
            "\n",
            "                           Adjusted_Close  Additional_Shares  Total_Shares  \\\n",
            "Date_as_Index                                                                \n",
            "1993-01-29 00:00:00-05:00             NaN                NaN           NaN   \n",
            "1993-02-01 00:00:00-05:00             NaN                NaN           NaN   \n",
            "1993-02-02 00:00:00-05:00             NaN                NaN           NaN   \n",
            "1993-02-03 00:00:00-05:00             NaN                NaN           NaN   \n",
            "1993-02-04 00:00:00-05:00             NaN                NaN           NaN   \n",
            "\n",
            "                           Portfolio_Value  \n",
            "Date_as_Index                               \n",
            "1993-01-29 00:00:00-05:00              NaN  \n",
            "1993-02-01 00:00:00-05:00              NaN  \n",
            "1993-02-02 00:00:00-05:00              NaN  \n",
            "1993-02-03 00:00:00-05:00              NaN  \n",
            "1993-02-04 00:00:00-05:00              NaN  \n"
          ]
        }
      ]
    },
    {
      "cell_type": "code",
      "source": [
        "print(spy_data.head())\n",
        "\n",
        "print(spy_data.tail())\n",
        "\n",
        "print(all_dividends.head())\n",
        "\n",
        "print(all_dividends.tail())\n",
        "\n",
        "print(spy_data.info())\n",
        "\n",
        "print(all_dividends.info())\n",
        "\n",
        "print(spy_data.isnull().sum())\n",
        "\n",
        "print(all_dividends.isnull().sum())\n",
        "\n",
        "print(all_dividends.columns)"
      ],
      "metadata": {
        "colab": {
          "base_uri": "https://localhost:8080/"
        },
        "collapsed": true,
        "id": "Q993NBByoPPF",
        "outputId": "b6a96ab5-cbda-4778-b3ed-eec2201f6603"
      },
      "execution_count": null,
      "outputs": [
        {
          "output_type": "stream",
          "name": "stdout",
          "text": [
            "                       Date       Open       High        Low      Close  \\\n",
            "0 1993-01-29 00:00:00-05:00  24.701655  24.701655  24.578762  24.684099   \n",
            "1 1993-02-01 00:00:00-05:00  24.701666  24.859673  24.701666  24.859673   \n",
            "2 1993-02-02 00:00:00-05:00  24.842104  24.929885  24.789435  24.912329   \n",
            "3 1993-02-03 00:00:00-05:00  24.947445  25.193233  24.929889  25.175676   \n",
            "4 1993-02-04 00:00:00-05:00  25.263471  25.333696  24.982570  25.281027   \n",
            "\n",
            "    Volume  Dividends  Stock Splits  Capital Gains  Dividend  normalized_value  \n",
            "0  1003200        0.0           0.0            0.0       0.0      10000.000000  \n",
            "1   480500        0.0           0.0            0.0       0.0      10071.128117  \n",
            "2   201300        0.0           0.0            0.0       0.0      10092.460138  \n",
            "3   529400        0.0           0.0            0.0       0.0      10199.147291  \n",
            "4   531500        0.0           0.0            0.0       0.0      10241.826788  \n",
            "                          Date        Open        High         Low  \\\n",
            "7947 2024-08-22 00:00:00-04:00  562.559998  563.179993  554.979980   \n",
            "7948 2024-08-23 00:00:00-04:00  559.530029  563.090027  557.289978   \n",
            "7949 2024-08-26 00:00:00-04:00  563.179993  563.909973  559.049988   \n",
            "7950 2024-08-27 00:00:00-04:00  559.489990  562.059998  558.320007   \n",
            "7951 2024-08-28 00:00:00-04:00  561.210022  561.642029  557.700012   \n",
            "\n",
            "           Close    Volume  Dividends  Stock Splits  Capital Gains  Dividend  \\\n",
            "7947  556.219971  56121500        0.0           0.0            0.0       0.0   \n",
            "7948  562.130005  50639400        0.0           0.0            0.0       0.0   \n",
            "7949  560.789978  35788600        0.0           0.0            0.0       0.0   \n",
            "7950  561.559998  32627800        0.0           0.0            0.0       0.0   \n",
            "7951  558.030029   9349098        0.0           0.0            0.0       0.0   \n",
            "\n",
            "      normalized_value  \n",
            "7947     225769.647375  \n",
            "7948     228168.529837  \n",
            "7949     227624.613030  \n",
            "7950     227937.163904  \n",
            "7951     226504.350032  \n",
            "                                               Date      Open      High  \\\n",
            "Date_as_Index                                                             \n",
            "1993-01-29 00:00:00-05:00 1993-01-29 00:00:00-05:00  5.788133  5.802531   \n",
            "1993-02-01 00:00:00-05:00 1993-02-01 00:00:00-05:00  5.759338  5.802533   \n",
            "1993-02-02 00:00:00-05:00 1993-02-02 00:00:00-05:00  5.759332  5.816925   \n",
            "1993-02-03 00:00:00-05:00 1993-02-03 00:00:00-05:00  5.788131  5.845725   \n",
            "1993-02-04 00:00:00-05:00 1993-02-04 00:00:00-05:00  5.860124  5.888920   \n",
            "\n",
            "                                Low     Close   Volume  Dividends  \\\n",
            "Date_as_Index                                                       \n",
            "1993-01-29 00:00:00-05:00  5.716141  5.730539  4040000        0.0   \n",
            "1993-02-01 00:00:00-05:00  5.730541  5.788135  3292400        0.0   \n",
            "1993-02-02 00:00:00-05:00  5.759332  5.759332  2364400        0.0   \n",
            "1993-02-03 00:00:00-05:00  5.788131  5.831326  2091600        0.0   \n",
            "1993-02-04 00:00:00-05:00  5.802530  5.860124  3082800        0.0   \n",
            "\n",
            "                           Stock Splits  Dividend symbol_x  Stock_Split  \\\n",
            "Date_as_Index                                                             \n",
            "1993-01-29 00:00:00-05:00           0.0       NaN      NaN          NaN   \n",
            "1993-02-01 00:00:00-05:00           0.0       NaN      NaN          NaN   \n",
            "1993-02-02 00:00:00-05:00           0.0       NaN      NaN          NaN   \n",
            "1993-02-03 00:00:00-05:00           0.0       NaN      NaN          NaN   \n",
            "1993-02-04 00:00:00-05:00           0.0       NaN      NaN          NaN   \n",
            "\n",
            "                          symbol_y symbol DRIP  Reinvested_Dividends  \\\n",
            "Date_as_Index                                                          \n",
            "1993-01-29 00:00:00-05:00      NaN     PG  yes                   0.0   \n",
            "1993-02-01 00:00:00-05:00      NaN     PG  yes                   0.0   \n",
            "1993-02-02 00:00:00-05:00      NaN     PG  yes                   0.0   \n",
            "1993-02-03 00:00:00-05:00      NaN     PG  yes                   0.0   \n",
            "1993-02-04 00:00:00-05:00      NaN     PG  yes                   0.0   \n",
            "\n",
            "                           Adjusted_Close  Additional_Shares  Total_Shares  \\\n",
            "Date_as_Index                                                                \n",
            "1993-01-29 00:00:00-05:00             NaN                NaN           NaN   \n",
            "1993-02-01 00:00:00-05:00             NaN                NaN           NaN   \n",
            "1993-02-02 00:00:00-05:00             NaN                NaN           NaN   \n",
            "1993-02-03 00:00:00-05:00             NaN                NaN           NaN   \n",
            "1993-02-04 00:00:00-05:00             NaN                NaN           NaN   \n",
            "\n",
            "                           Portfolio_Value  \n",
            "Date_as_Index                               \n",
            "1993-01-29 00:00:00-05:00              NaN  \n",
            "1993-02-01 00:00:00-05:00              NaN  \n",
            "1993-02-02 00:00:00-05:00              NaN  \n",
            "1993-02-03 00:00:00-05:00              NaN  \n",
            "1993-02-04 00:00:00-05:00              NaN  \n",
            "                                               Date        Open        High  \\\n",
            "Date_as_Index                                                                 \n",
            "2023-12-22 00:00:00-05:00 2023-12-22 00:00:00-05:00  105.646180  106.409745   \n",
            "2023-12-26 00:00:00-05:00 2023-12-26 00:00:00-05:00  105.636391  106.703422   \n",
            "2023-12-27 00:00:00-05:00 2023-12-27 00:00:00-05:00  106.781738  106.811105   \n",
            "2023-12-28 00:00:00-05:00 2023-12-28 00:00:00-05:00  106.194387  106.889426   \n",
            "2023-12-29 00:00:00-05:00 2023-12-29 00:00:00-05:00  106.213967  106.742591   \n",
            "\n",
            "                                  Low       Close   Volume  Dividends  \\\n",
            "Date_as_Index                                                           \n",
            "2023-12-22 00:00:00-05:00  104.970723  105.616814   875200        0.0   \n",
            "2023-12-26 00:00:00-05:00  105.323126  106.399956   654900        0.0   \n",
            "2023-12-27 00:00:00-05:00  106.027957  106.399956  1153800        0.0   \n",
            "2023-12-28 00:00:00-05:00  105.939863  106.713219   775800        0.0   \n",
            "2023-12-29 00:00:00-05:00  105.156720  105.421036   878100        0.0   \n",
            "\n",
            "                           Stock Splits  Dividend symbol_x  Stock_Split  \\\n",
            "Date_as_Index                                                             \n",
            "2023-12-22 00:00:00-05:00           0.0       NaN      NaN          NaN   \n",
            "2023-12-26 00:00:00-05:00           0.0       NaN      NaN          NaN   \n",
            "2023-12-27 00:00:00-05:00           0.0       NaN      NaN          NaN   \n",
            "2023-12-28 00:00:00-05:00           0.0       NaN      NaN          NaN   \n",
            "2023-12-29 00:00:00-05:00           0.0       NaN      NaN          NaN   \n",
            "\n",
            "                          symbol_y symbol DRIP  Reinvested_Dividends  \\\n",
            "Date_as_Index                                                          \n",
            "2023-12-22 00:00:00-05:00      NaN   TROW  yes                   0.0   \n",
            "2023-12-26 00:00:00-05:00      NaN   TROW  yes                   0.0   \n",
            "2023-12-27 00:00:00-05:00      NaN   TROW  yes                   0.0   \n",
            "2023-12-28 00:00:00-05:00      NaN   TROW  yes                   0.0   \n",
            "2023-12-29 00:00:00-05:00      NaN   TROW  yes                   0.0   \n",
            "\n",
            "                           Adjusted_Close  Additional_Shares  Total_Shares  \\\n",
            "Date_as_Index                                                                \n",
            "2023-12-22 00:00:00-05:00             NaN                NaN           NaN   \n",
            "2023-12-26 00:00:00-05:00             NaN                NaN           NaN   \n",
            "2023-12-27 00:00:00-05:00             NaN                NaN           NaN   \n",
            "2023-12-28 00:00:00-05:00             NaN                NaN           NaN   \n",
            "2023-12-29 00:00:00-05:00             NaN                NaN           NaN   \n",
            "\n",
            "                           Portfolio_Value  \n",
            "Date_as_Index                               \n",
            "2023-12-22 00:00:00-05:00              NaN  \n",
            "2023-12-26 00:00:00-05:00              NaN  \n",
            "2023-12-27 00:00:00-05:00              NaN  \n",
            "2023-12-28 00:00:00-05:00              NaN  \n",
            "2023-12-29 00:00:00-05:00              NaN  \n",
            "<class 'pandas.core.frame.DataFrame'>\n",
            "RangeIndex: 7952 entries, 0 to 7951\n",
            "Data columns (total 11 columns):\n",
            " #   Column            Non-Null Count  Dtype                     \n",
            "---  ------            --------------  -----                     \n",
            " 0   Date              7952 non-null   datetime64[ns, US/Eastern]\n",
            " 1   Open              7952 non-null   float64                   \n",
            " 2   High              7952 non-null   float64                   \n",
            " 3   Low               7952 non-null   float64                   \n",
            " 4   Close             7952 non-null   float64                   \n",
            " 5   Volume            7952 non-null   int64                     \n",
            " 6   Dividends         7952 non-null   float64                   \n",
            " 7   Stock Splits      7952 non-null   float64                   \n",
            " 8   Capital Gains     7952 non-null   float64                   \n",
            " 9   Dividend          7952 non-null   float64                   \n",
            " 10  normalized_value  7952 non-null   float64                   \n",
            "dtypes: datetime64[ns, US/Eastern](1), float64(9), int64(1)\n",
            "memory usage: 683.5 KB\n",
            "None\n",
            "<class 'pandas.core.frame.DataFrame'>\n",
            "DatetimeIndex: 77860 entries, 1993-01-29 00:00:00-05:00 to 2023-12-29 00:00:00-05:00\n",
            "Data columns (total 19 columns):\n",
            " #   Column                Non-Null Count  Dtype                           \n",
            "---  ------                --------------  -----                           \n",
            " 0   Date                  77860 non-null  datetime64[ns, America/New_York]\n",
            " 1   Open                  77860 non-null  float64                         \n",
            " 2   High                  77860 non-null  float64                         \n",
            " 3   Low                   77860 non-null  float64                         \n",
            " 4   Close                 77860 non-null  float64                         \n",
            " 5   Volume                77860 non-null  int64                           \n",
            " 6   Dividends             77860 non-null  float64                         \n",
            " 7   Stock Splits          77860 non-null  float64                         \n",
            " 8   Dividend              1248 non-null   float64                         \n",
            " 9   symbol_x              1248 non-null   object                          \n",
            " 10  Stock_Split           22 non-null     float64                         \n",
            " 11  symbol_y              22 non-null     object                          \n",
            " 12  symbol                77860 non-null  object                          \n",
            " 13  DRIP                  77860 non-null  object                          \n",
            " 14  Reinvested_Dividends  77860 non-null  float64                         \n",
            " 15  Adjusted_Close        0 non-null      float64                         \n",
            " 16  Additional_Shares     0 non-null      float64                         \n",
            " 17  Total_Shares          0 non-null      float64                         \n",
            " 18  Portfolio_Value       0 non-null      float64                         \n",
            "dtypes: datetime64[ns, America/New_York](1), float64(13), int64(1), object(4)\n",
            "memory usage: 11.9+ MB\n",
            "None\n",
            "Date                0\n",
            "Open                0\n",
            "High                0\n",
            "Low                 0\n",
            "Close               0\n",
            "Volume              0\n",
            "Dividends           0\n",
            "Stock Splits        0\n",
            "Capital Gains       0\n",
            "Dividend            0\n",
            "normalized_value    0\n",
            "dtype: int64\n",
            "Date                        0\n",
            "Open                        0\n",
            "High                        0\n",
            "Low                         0\n",
            "Close                       0\n",
            "Volume                      0\n",
            "Dividends                   0\n",
            "Stock Splits                0\n",
            "Dividend                76612\n",
            "symbol_x                76612\n",
            "Stock_Split             77838\n",
            "symbol_y                77838\n",
            "symbol                      0\n",
            "DRIP                        0\n",
            "Reinvested_Dividends        0\n",
            "Adjusted_Close          77860\n",
            "Additional_Shares       77860\n",
            "Total_Shares            77860\n",
            "Portfolio_Value         77860\n",
            "dtype: int64\n",
            "Index(['Date', 'Open', 'High', 'Low', 'Close', 'Volume', 'Dividends',\n",
            "       'Stock Splits', 'Dividend', 'symbol_x', 'Stock_Split', 'symbol_y',\n",
            "       'symbol', 'DRIP', 'Reinvested_Dividends', 'Adjusted_Close',\n",
            "       'Additional_Shares', 'Total_Shares', 'Portfolio_Value'],\n",
            "      dtype='object')\n"
          ]
        }
      ]
    },
    {
      "cell_type": "code",
      "source": [
        "spy_data.reset_index(inplace=True)\n",
        "if 'Date' in spy_data.columns:\n",
        "    spy_data['Date'] = pd.to_datetime(spy_data['Date'])\n",
        "\n",
        "    spy_data.set_index('Date', inplace=True)\n",
        "else:\n",
        "    print(\"No 'Date' column found in spy_data.\")\n",
        "print(spy_data.index)"
      ],
      "metadata": {
        "colab": {
          "base_uri": "https://localhost:8080/"
        },
        "id": "43TEvG1BsosS",
        "outputId": "2a5e8ebf-15b5-45ba-a138-b1feac8b774c"
      },
      "execution_count": null,
      "outputs": [
        {
          "output_type": "stream",
          "name": "stdout",
          "text": [
            "DatetimeIndex(['1993-01-29 00:00:00-05:00', '1993-02-01 00:00:00-05:00',\n",
            "               '1993-02-02 00:00:00-05:00', '1993-02-03 00:00:00-05:00',\n",
            "               '1993-02-04 00:00:00-05:00', '1993-02-05 00:00:00-05:00',\n",
            "               '1993-02-08 00:00:00-05:00', '1993-02-09 00:00:00-05:00',\n",
            "               '1993-02-10 00:00:00-05:00', '1993-02-11 00:00:00-05:00',\n",
            "               ...\n",
            "               '2024-08-15 00:00:00-04:00', '2024-08-16 00:00:00-04:00',\n",
            "               '2024-08-19 00:00:00-04:00', '2024-08-20 00:00:00-04:00',\n",
            "               '2024-08-21 00:00:00-04:00', '2024-08-22 00:00:00-04:00',\n",
            "               '2024-08-23 00:00:00-04:00', '2024-08-26 00:00:00-04:00',\n",
            "               '2024-08-27 00:00:00-04:00', '2024-08-28 00:00:00-04:00'],\n",
            "              dtype='datetime64[ns, US/Eastern]', name='Date', length=7952, freq=None)\n"
          ]
        }
      ]
    },
    {
      "cell_type": "code",
      "source": [
        "print(all_dividends.index)"
      ],
      "metadata": {
        "colab": {
          "base_uri": "https://localhost:8080/"
        },
        "id": "eH4p-Qlzs8DY",
        "outputId": "36ccf72e-7ad2-44d6-a04c-25562399ea97"
      },
      "execution_count": null,
      "outputs": [
        {
          "output_type": "stream",
          "name": "stdout",
          "text": [
            "DatetimeIndex(['1993-01-29 00:00:00-05:00', '1993-02-01 00:00:00-05:00',\n",
            "               '1993-02-02 00:00:00-05:00', '1993-02-03 00:00:00-05:00',\n",
            "               '1993-02-04 00:00:00-05:00', '1993-02-05 00:00:00-05:00',\n",
            "               '1993-02-08 00:00:00-05:00', '1993-02-09 00:00:00-05:00',\n",
            "               '1993-02-10 00:00:00-05:00', '1993-02-11 00:00:00-05:00',\n",
            "               ...\n",
            "               '2023-12-15 00:00:00-05:00', '2023-12-18 00:00:00-05:00',\n",
            "               '2023-12-19 00:00:00-05:00', '2023-12-20 00:00:00-05:00',\n",
            "               '2023-12-21 00:00:00-05:00', '2023-12-22 00:00:00-05:00',\n",
            "               '2023-12-26 00:00:00-05:00', '2023-12-27 00:00:00-05:00',\n",
            "               '2023-12-28 00:00:00-05:00', '2023-12-29 00:00:00-05:00'],\n",
            "              dtype='datetime64[ns, US/Eastern]', name='Date_as_Index', length=77860, freq=None)\n"
          ]
        }
      ]
    },
    {
      "cell_type": "code",
      "source": [
        "# Plot SPY closing prices over time\n",
        "plt.figure(figsize=(10, 5))\n",
        "plt.plot(spy_data['Close'], label='SPY Close Price')\n",
        "plt.title('SPY Closing Prices Over Time')\n",
        "plt.xlabel('Date')\n",
        "plt.ylabel('Price')\n",
        "plt.legend()\n",
        "plt.show()\n",
        "\n",
        "# Plot closing prices for the dividend stocks\n",
        "plt.figure(figsize=(10, 5))\n",
        "for symbol in all_dividends['symbol'].unique():\n",
        "    plt.plot(all_dividends[all_dividends['symbol'] == symbol]['Date'],\n",
        "             all_dividends[all_dividends['symbol'] == symbol]['Close'], label=symbol)\n",
        "\n",
        "plt.title('Dividend Stocks Closing Prices Over Time')\n",
        "plt.xlabel('Date')\n",
        "plt.ylabel('Price')\n",
        "plt.legend()\n",
        "plt.show()"
      ],
      "metadata": {
        "colab": {
          "base_uri": "https://localhost:8080/",
          "height": 957
        },
        "id": "Iu0hJjsfowSx",
        "outputId": "8dff9bf7-7e7a-46d8-920d-5f4e20309a45"
      },
      "execution_count": null,
      "outputs": [
        {
          "output_type": "display_data",
          "data": {
            "text/plain": [
              "<Figure size 1000x500 with 1 Axes>"
            ],
            "image/png": "[encoded data removed]"
          },
          "metadata": {}
        },
        {
          "output_type": "display_data",
          "data": {
            "text/plain": [
              "<Figure size 1000x500 with 1 Axes>"
            ],
            "image/png": "[encoded data removed]"
          },
          "metadata": {}
        }
      ]
    },
    {
      "cell_type": "code",
      "source": [],
      "metadata": {
        "id": "OW37MFnhtmbW"
      },
      "execution_count": null,
      "outputs": []
    },
    {
      "cell_type": "code",
      "source": [
        "# Group by 'date' and calculate the mean 'Close' price for each date\n",
        "daily_dividend_prices = all_dividends.groupby('Date')['Close'].mean()\n",
        "\n",
        "# Convert to DataFrame for easier manipulation\n",
        "dividend_prices_df = daily_dividend_prices.reset_index()"
      ],
      "metadata": {
        "id": "A_MoceB3qYw3"
      },
      "execution_count": null,
      "outputs": []
    },
    {
      "cell_type": "code",
      "source": [
        "# Normalize SPY data to $10,000\n",
        "initial_investment = 10000\n",
        "spy_data['normalized_value'] = initial_investment * (spy_data['Close'] / spy_data['Close'].iloc[0])\n"
      ],
      "metadata": {
        "id": "ztF6MfFVtMr_"
      },
      "execution_count": null,
      "outputs": []
    },
    {
      "cell_type": "code",
      "source": [
        "# Normalize Dividend data to $10,000\n",
        "dividend_initial_investment = 10000\n",
        "dividend_prices_df['normalized_value'] = dividend_initial_investment * (dividend_prices_df['Close'] / dividend_prices_df['Close'].iloc[0])\n",
        "\n",
        "\n"
      ],
      "metadata": {
        "id": "HdEMPtL1tTwY"
      },
      "execution_count": null,
      "outputs": []
    },
    {
      "cell_type": "code",
      "source": [
        "print(spy_data.index)\n",
        "print(all_dividends.index)"
      ],
      "metadata": {
        "colab": {
          "base_uri": "https://localhost:8080/"
        },
        "id": "wAolFFCw3t8w",
        "outputId": "3e517d72-946d-4438-92ec-828af9a55b32"
      },
      "execution_count": null,
      "outputs": [
        {
          "output_type": "stream",
          "name": "stdout",
          "text": [
            "DatetimeIndex(['1993-01-29 00:00:00-05:00', '1993-02-01 00:00:00-05:00',\n",
            "               '1993-02-02 00:00:00-05:00', '1993-02-03 00:00:00-05:00',\n",
            "               '1993-02-04 00:00:00-05:00', '1993-02-05 00:00:00-05:00',\n",
            "               '1993-02-08 00:00:00-05:00', '1993-02-09 00:00:00-05:00',\n",
            "               '1993-02-10 00:00:00-05:00', '1993-02-11 00:00:00-05:00',\n",
            "               ...\n",
            "               '2024-08-15 00:00:00-04:00', '2024-08-16 00:00:00-04:00',\n",
            "               '2024-08-19 00:00:00-04:00', '2024-08-20 00:00:00-04:00',\n",
            "               '2024-08-21 00:00:00-04:00', '2024-08-22 00:00:00-04:00',\n",
            "               '2024-08-23 00:00:00-04:00', '2024-08-26 00:00:00-04:00',\n",
            "               '2024-08-27 00:00:00-04:00', '2024-08-28 00:00:00-04:00'],\n",
            "              dtype='datetime64[ns, US/Eastern]', name='Date', length=7952, freq=None)\n",
            "DatetimeIndex(['1993-01-29 00:00:00-05:00', '1993-02-01 00:00:00-05:00',\n",
            "               '1993-02-02 00:00:00-05:00', '1993-02-03 00:00:00-05:00',\n",
            "               '1993-02-04 00:00:00-05:00', '1993-02-05 00:00:00-05:00',\n",
            "               '1993-02-08 00:00:00-05:00', '1993-02-09 00:00:00-05:00',\n",
            "               '1993-02-10 00:00:00-05:00', '1993-02-11 00:00:00-05:00',\n",
            "               ...\n",
            "               '2023-12-15 00:00:00-05:00', '2023-12-18 00:00:00-05:00',\n",
            "               '2023-12-19 00:00:00-05:00', '2023-12-20 00:00:00-05:00',\n",
            "               '2023-12-21 00:00:00-05:00', '2023-12-22 00:00:00-05:00',\n",
            "               '2023-12-26 00:00:00-05:00', '2023-12-27 00:00:00-05:00',\n",
            "               '2023-12-28 00:00:00-05:00', '2023-12-29 00:00:00-05:00'],\n",
            "              dtype='datetime64[ns, US/Eastern]', name='Date_as_Index', length=77860, freq=None)\n"
          ]
        }
      ]
    },
    {
      "cell_type": "code",
      "source": [
        "print(all_dividends.index.duplicated().sum())\n",
        "print(spy_data.index.duplicated().sum())"
      ],
      "metadata": {
        "colab": {
          "base_uri": "https://localhost:8080/"
        },
        "id": "e5iNZb28ECog",
        "outputId": "79adeb78-855d-48d6-cb20-458c2599f168"
      },
      "execution_count": null,
      "outputs": [
        {
          "output_type": "stream",
          "name": "stdout",
          "text": [
            "70074\n",
            "0\n"
          ]
        }
      ]
    },
    {
      "cell_type": "code",
      "source": [
        "all_dividends = all_dividends[~all_dividends.index.duplicated(keep='first')]\n",
        "spy_data = spy_data[~spy_data.index.duplicated(keep='first')]\n",
        "all_dividends['Close'] = pd.to_numeric(all_dividends['Close'], errors='coerce')\n",
        "all_dividends = all_dividends.dropna(subset=['Close'])\n"
      ],
      "metadata": {
        "colab": {
          "base_uri": "https://localhost:8080/"
        },
        "id": "h5MhWvuiEGPO",
        "outputId": "a66b73d8-03d9-4843-9185-d5ccbded60bb"
      },
      "execution_count": null,
      "outputs": [
        {
          "output_type": "stream",
          "name": "stderr",
          "text": [
            "<ipython-input-34-39cf1a4ae6ca>:3: SettingWithCopyWarning: \n",
            "A value is trying to be set on a copy of a slice from a DataFrame.\n",
            "Try using .loc[row_indexer,col_indexer] = value instead\n",
            "\n",
            "See the caveats in the documentation: https://pandas.pydata.org/pandas-docs/stable/user_guide/indexing.html#returning-a-view-versus-a-copy\n",
            "  all_dividends['Close'] = pd.to_numeric(all_dividends['Close'], errors='coerce')\n"
          ]
        }
      ]
    },
    {
      "cell_type": "code",
      "source": [
        "all_dividends['Reinvested_Dividends'] = pd.to_numeric(all_dividends['Reinvested_Dividends'], errors='coerce')\n",
        "all_dividends['Additional_Shares'] = pd.to_numeric(all_dividends['Additional_Shares'], errors='coerce')\n",
        "all_dividends['Total_Shares'] = pd.to_numeric(all_dividends['Total_Shares'], errors='coerce')\n",
        "all_dividends['Portfolio_Value'] = pd.to_numeric(all_dividends['Portfolio_Value'], errors='coerce')\n",
        "\n",
        "all_dividends = all_dividends.dropna(subset=['Close', 'Reinvested_Dividends', 'Additional_Shares', 'Total_Shares', 'Portfolio_Value'])\n",
        "\n",
        "all_dividends = all_dividends[~all_dividends.index.duplicated(keep='first')]\n",
        "\n",
        "\n",
        "print(all_dividends.dtypes)"
      ],
      "metadata": {
        "colab": {
          "base_uri": "https://localhost:8080/"
        },
        "id": "En5qpEaoEtpZ",
        "outputId": "9653763f-b8a6-4918-e19b-9be538f639a0"
      },
      "execution_count": null,
      "outputs": [
        {
          "output_type": "stream",
          "name": "stdout",
          "text": [
            "Date                    datetime64[ns, America/New_York]\n",
            "Open                                             float64\n",
            "High                                             float64\n",
            "Low                                              float64\n",
            "Close                                            float64\n",
            "Volume                                             int64\n",
            "Dividends                                        float64\n",
            "Stock Splits                                     float64\n",
            "Dividend                                         float64\n",
            "symbol_x                                          object\n",
            "Stock_Split                                      float64\n",
            "symbol_y                                          object\n",
            "symbol                                            object\n",
            "DRIP                                              object\n",
            "Reinvested_Dividends                             float64\n",
            "Adjusted_Close                                   float64\n",
            "Additional_Shares                                float64\n",
            "Total_Shares                                     float64\n",
            "Portfolio_Value                                  float64\n",
            "dtype: object\n"
          ]
        }
      ]
    },
    {
      "cell_type": "code",
      "source": [
        "numeric_cols = ['Close', 'Reinvested_Dividends', 'Additional_Shares', 'Total_Shares', 'Portfolio_Value']\n",
        "all_dividends_numeric = all_dividends[numeric_cols]\n",
        "\n",
        "all_dividends_numeric = all_dividends_numeric.resample('D').mean()\n",
        "\n",
        "# Normalize values\n",
        "all_dividends_numeric['normalized_value'] = (all_dividends_numeric['Close'] / all_dividends_numeric['Close'].iloc[0]) * 10000\n"
      ],
      "metadata": {
        "id": "-XDBLNIAFvGK",
        "colab": {
          "base_uri": "https://localhost:8080/",
          "height": 321
        },
        "outputId": "c9605e6a-5346-4095-9926-e43b4fe1c722"
      },
      "execution_count": null,
      "outputs": [
        {
          "output_type": "error",
          "ename": "IndexError",
          "evalue": "single positional indexer is out-of-bounds",
          "traceback": [
            "\u001b[0;31m---------------------------------------------------------------------------\u001b[0m",
            "\u001b[0;31mIndexError\u001b[0m                                Traceback (most recent call last)",
            "\u001b[0;32m<ipython-input-36-e6e26d67e37f>\u001b[0m in \u001b[0;36m<cell line: 7>\u001b[0;34m()\u001b[0m\n\u001b[1;32m      5\u001b[0m \u001b[0;34m\u001b[0m\u001b[0m\n\u001b[1;32m      6\u001b[0m \u001b[0;31m# Normalize values\u001b[0m\u001b[0;34m\u001b[0m\u001b[0;34m\u001b[0m\u001b[0m\n\u001b[0;32m----> 7\u001b[0;31m \u001b[0mall_dividends_numeric\u001b[0m\u001b[0;34m[\u001b[0m\u001b[0;34m'normalized_value'\u001b[0m\u001b[0;34m]\u001b[0m \u001b[0;34m=\u001b[0m \u001b[0;34m(\u001b[0m\u001b[0mall_dividends_numeric\u001b[0m\u001b[0;34m[\u001b[0m\u001b[0;34m'Close'\u001b[0m\u001b[0;34m]\u001b[0m \u001b[0;34m/\u001b[0m \u001b[0mall_dividends_numeric\u001b[0m\u001b[0;34m[\u001b[0m\u001b[0;34m'Close'\u001b[0m\u001b[0;34m]\u001b[0m\u001b[0;34m.\u001b[0m\u001b[0miloc\u001b[0m\u001b[0;34m[\u001b[0m\u001b[0;36m0\u001b[0m\u001b[0;34m]\u001b[0m\u001b[0;34m)\u001b[0m \u001b[0;34m*\u001b[0m \u001b[0;36m10000\u001b[0m\u001b[0;34m\u001b[0m\u001b[0;34m\u001b[0m\u001b[0m\n\u001b[0m",
            "\u001b[0;32m/usr/local/lib/python3.10/dist-packages/pandas/core/indexing.py\u001b[0m in \u001b[0;36m__getitem__\u001b[0;34m(self, key)\u001b[0m\n\u001b[1;32m   1151\u001b[0m \u001b[0;34m\u001b[0m\u001b[0m\n\u001b[1;32m   1152\u001b[0m             \u001b[0mmaybe_callable\u001b[0m \u001b[0;34m=\u001b[0m \u001b[0mcom\u001b[0m\u001b[0;34m.\u001b[0m\u001b[0mapply_if_callable\u001b[0m\u001b[0;34m(\u001b[0m\u001b[0mkey\u001b[0m\u001b[0;34m,\u001b[0m \u001b[0mself\u001b[0m\u001b[0;34m.\u001b[0m\u001b[0mobj\u001b[0m\u001b[0;34m)\u001b[0m\u001b[0;34m\u001b[0m\u001b[0;34m\u001b[0m\u001b[0m\n\u001b[0;32m-> 1153\u001b[0;31m             \u001b[0;32mreturn\u001b[0m \u001b[0mself\u001b[0m\u001b[0;34m.\u001b[0m\u001b[0m_getitem_axis\u001b[0m\u001b[0;34m(\u001b[0m\u001b[0mmaybe_callable\u001b[0m\u001b[0;34m,\u001b[0m \u001b[0maxis\u001b[0m\u001b[0;34m=\u001b[0m\u001b[0maxis\u001b[0m\u001b[0;34m)\u001b[0m\u001b[0;34m\u001b[0m\u001b[0;34m\u001b[0m\u001b[0m\n\u001b[0m\u001b[1;32m   1154\u001b[0m \u001b[0;34m\u001b[0m\u001b[0m\n\u001b[1;32m   1155\u001b[0m     \u001b[0;32mdef\u001b[0m \u001b[0m_is_scalar_access\u001b[0m\u001b[0;34m(\u001b[0m\u001b[0mself\u001b[0m\u001b[0;34m,\u001b[0m \u001b[0mkey\u001b[0m\u001b[0;34m:\u001b[0m \u001b[0mtuple\u001b[0m\u001b[0;34m)\u001b[0m\u001b[0;34m:\u001b[0m\u001b[0;34m\u001b[0m\u001b[0;34m\u001b[0m\u001b[0m\n",
            "\u001b[0;32m/usr/local/lib/python3.10/dist-packages/pandas/core/indexing.py\u001b[0m in \u001b[0;36m_getitem_axis\u001b[0;34m(self, key, axis)\u001b[0m\n\u001b[1;32m   1712\u001b[0m \u001b[0;34m\u001b[0m\u001b[0m\n\u001b[1;32m   1713\u001b[0m             \u001b[0;31m# validate the location\u001b[0m\u001b[0;34m\u001b[0m\u001b[0;34m\u001b[0m\u001b[0m\n\u001b[0;32m-> 1714\u001b[0;31m             \u001b[0mself\u001b[0m\u001b[0;34m.\u001b[0m\u001b[0m_validate_integer\u001b[0m\u001b[0;34m(\u001b[0m\u001b[0mkey\u001b[0m\u001b[0;34m,\u001b[0m \u001b[0maxis\u001b[0m\u001b[0;34m)\u001b[0m\u001b[0;34m\u001b[0m\u001b[0;34m\u001b[0m\u001b[0m\n\u001b[0m\u001b[1;32m   1715\u001b[0m \u001b[0;34m\u001b[0m\u001b[0m\n\u001b[1;32m   1716\u001b[0m             \u001b[0;32mreturn\u001b[0m \u001b[0mself\u001b[0m\u001b[0;34m.\u001b[0m\u001b[0mobj\u001b[0m\u001b[0;34m.\u001b[0m\u001b[0m_ixs\u001b[0m\u001b[0;34m(\u001b[0m\u001b[0mkey\u001b[0m\u001b[0;34m,\u001b[0m \u001b[0maxis\u001b[0m\u001b[0;34m=\u001b[0m\u001b[0maxis\u001b[0m\u001b[0;34m)\u001b[0m\u001b[0;34m\u001b[0m\u001b[0;34m\u001b[0m\u001b[0m\n",
            "\u001b[0;32m/usr/local/lib/python3.10/dist-packages/pandas/core/indexing.py\u001b[0m in \u001b[0;36m_validate_integer\u001b[0;34m(self, key, axis)\u001b[0m\n\u001b[1;32m   1645\u001b[0m         \u001b[0mlen_axis\u001b[0m \u001b[0;34m=\u001b[0m \u001b[0mlen\u001b[0m\u001b[0;34m(\u001b[0m\u001b[0mself\u001b[0m\u001b[0;34m.\u001b[0m\u001b[0mobj\u001b[0m\u001b[0;34m.\u001b[0m\u001b[0m_get_axis\u001b[0m\u001b[0;34m(\u001b[0m\u001b[0maxis\u001b[0m\u001b[0;34m)\u001b[0m\u001b[0;34m)\u001b[0m\u001b[0;34m\u001b[0m\u001b[0;34m\u001b[0m\u001b[0m\n\u001b[1;32m   1646\u001b[0m         \u001b[0;32mif\u001b[0m \u001b[0mkey\u001b[0m \u001b[0;34m>=\u001b[0m \u001b[0mlen_axis\u001b[0m \u001b[0;32mor\u001b[0m \u001b[0mkey\u001b[0m \u001b[0;34m<\u001b[0m \u001b[0;34m-\u001b[0m\u001b[0mlen_axis\u001b[0m\u001b[0;34m:\u001b[0m\u001b[0;34m\u001b[0m\u001b[0;34m\u001b[0m\u001b[0m\n\u001b[0;32m-> 1647\u001b[0;31m             \u001b[0;32mraise\u001b[0m \u001b[0mIndexError\u001b[0m\u001b[0;34m(\u001b[0m\u001b[0;34m\"single positional indexer is out-of-bounds\"\u001b[0m\u001b[0;34m)\u001b[0m\u001b[0;34m\u001b[0m\u001b[0;34m\u001b[0m\u001b[0m\n\u001b[0m\u001b[1;32m   1648\u001b[0m \u001b[0;34m\u001b[0m\u001b[0m\n\u001b[1;32m   1649\u001b[0m     \u001b[0;31m# -------------------------------------------------------------------\u001b[0m\u001b[0;34m\u001b[0m\u001b[0;34m\u001b[0m\u001b[0m\n",
            "\u001b[0;31mIndexError\u001b[0m: single positional indexer is out-of-bounds"
          ]
        }
      ]
    },
    {
      "cell_type": "code",
      "source": [
        "all_dividends_non_numeric = all_dividends[['DRIP', 'symbol']].resample('D').first()\n",
        "all_dividends_clean = pd.concat([all_dividends_numeric, all_dividends_non_numeric], axis=1)"
      ],
      "metadata": {
        "id": "5mwJOgfOF2eC"
      },
      "execution_count": null,
      "outputs": []
    },
    {
      "cell_type": "code",
      "source": [
        "print(all_dividends_clean.dtypes)"
      ],
      "metadata": {
        "id": "gy8mu1OlEHil"
      },
      "execution_count": null,
      "outputs": []
    },
    {
      "cell_type": "code",
      "source": [
        "all_dividends_clean['normalized_value'] = (all_dividends['Close'] / all_dividends['Close'].iloc[0]) * 10000\n",
        "\n",
        "spy_data['normalized_value'] = (spy_data['Close'] / spy_data['Close'].iloc[0]) * 10000\n",
        "\n",
        "\n",
        "\n",
        "\n",
        "\n",
        "start_date = max(all_dividends.index.min(), spy_data.index.min())\n",
        "end_date = min(all_dividends.index.max(), spy_data.index.max())\n",
        "\n",
        "all_dividends = all_dividends[start_date:end_date]\n",
        "spy_data = spy_data[start_date:end_date]"
      ],
      "metadata": {
        "id": "JvHa_86j3DrB"
      },
      "execution_count": null,
      "outputs": []
    },
    {
      "cell_type": "code",
      "source": [
        "plt.figure(figsize=(14, 7))\n",
        "plt.plot(all_dividends_clean.index, all_dividends_clean['normalized_value'], label='Dividend Portfolio', color='green')\n",
        "plt.plot(spy_data.index, spy_data['normalized_value'], label='SPY Growth Portfolio', color='blue')\n",
        "plt.title('Performance Comparison: Growth vs Dividend Portfolio')\n",
        "plt.xlabel('Date')\n",
        "plt.ylabel('Normalized Portfolio Value ($10,000 Initial)')\n",
        "plt.legend()\n",
        "plt.grid(True)\n",
        "plt.show()"
      ],
      "metadata": {
        "id": "U0sfRSphtVgA"
      },
      "execution_count": null,
      "outputs": []
    },
    {
      "cell_type": "code",
      "source": [],
      "metadata": {
        "id": "bR5zoV9t2Xc2"
      },
      "execution_count": null,
      "outputs": []
    }
  ]
}